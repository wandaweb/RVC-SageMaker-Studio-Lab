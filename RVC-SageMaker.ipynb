{
 "cells": [
  {
   "cell_type": "markdown",
   "id": "d87d6903-81a0-4d8f-aff9-1a2f76552f6b",
   "metadata": {},
   "source": [
    "# Retrieval-Based Voice Conversion (RVC)\n",
    "\n",
    "## Install"
   ]
  },
  {
   "cell_type": "code",
   "execution_count": null,
   "id": "b1c081c1-1194-4f22-b663-6867b0e208ae",
   "metadata": {
    "tags": []
   },
   "outputs": [],
   "source": [
    "# Installation - only needs to run once\n",
    "%cd ~\n",
    "!git clone https://github.com/RVC-Project/Retrieval-based-Voice-Conversion-WebUI\n",
    "!mv Retrieval-based-Voice-Conversion-WebUI RVC\n",
    "%cd RVC\n",
    "print(\"Installing...\")\n",
    "!pip install -q -r requirements.txt\n",
    "\n",
    "!python tools/download_models.py\n",
    "\n",
    "!pip install -q pyngrok\n",
    "!mkdir ~/RVC/myaudio\n",
    "!mkdir ~/RVC/ffmpeg\n",
    "!wget https://johnvansickle.com/ffmpeg/releases/ffmpeg-release-amd64-static.tar.xz -O ~/RVC/ffmpeg/ffmpeg-release.tar.xz\n",
    "!tar -xvf ~/RVC/ffmpeg/ffmpeg-release.tar.xz -C ~/RVC/ffmpeg/\n",
    "!mv ~/RVC/ffmpeg/ff*/* ~/RVC/ffmpeg\n"
   ]
  },
  {
   "cell_type": "markdown",
   "id": "30ebc988-98cc-4432-b559-ad76126e8891",
   "metadata": {},
   "source": [
    "#### Set up ffmpeg"
   ]
  },
  {
   "cell_type": "code",
   "execution_count": null,
   "id": "7a99c6d1-9f44-40e6-ba4c-60ef7318165f",
   "metadata": {
    "tags": []
   },
   "outputs": [],
   "source": [
    "# Link ffmpeg - run once each time the instance restarts\n",
    "!unlink /opt/conda/bin/ffmpeg \n",
    "!unlink /opt/conda/bin/ffprobe \n",
    "!ln -s /home/studio-lab-user/RVC/ffmpeg/ffmpeg /opt/conda/bin/ffmpeg \n",
    "!ln -s /home/studio-lab-user/RVC/ffmpeg/ffprobe /opt/conda/bin/ffprobe "
   ]
  },
  {
   "cell_type": "markdown",
   "id": "62ad87b6",
   "metadata": {},
   "source": [
    "---\n",
    "\n",
    "# Start the WebUI\n",
    "\n",
    "A quick guide on using Pinggy and Zrok - https://youtu.be/QA2o1bHt9U4"
   ]
  },
  {
   "cell_type": "markdown",
   "id": "efa725dd-bb8b-421d-94fd-a44de004a7b3",
   "metadata": {},
   "source": [
    "### Start with Pinggy\n",
    "\n",
    "If the connection errors out, reload the page. Free tier users will have to restart the WebUI code cell once per hour. If you're training a model, wait for the training to complete before restarting the cell."
   ]
  },
  {
   "cell_type": "code",
   "execution_count": null,
   "id": "4c5a10e1-a1d0-4532-9b0c-252d6f5fd11d",
   "metadata": {},
   "outputs": [],
   "source": [
    "# Install SSH (only needs to run once)\n",
    "!conda config --add channels conda-forge\n",
    "!conda config --set channel_priority strict\n",
    "!conda install -y openssh"
   ]
  },
  {
   "cell_type": "code",
   "execution_count": null,
   "id": "e3863dbe-b9e2-41bb-97a0-14b441385398",
   "metadata": {
    "tags": []
   },
   "outputs": [],
   "source": [
    "# Start the WebUI with Pinggy\n",
    "%cd /home/studio-lab-user/RVC\n",
    "\n",
    "from multiprocessing import Process\n",
    "import sys\n",
    "import time\n",
    "\n",
    "open('log.txt', 'w').close()\n",
    "\n",
    "def run_app():\n",
    "    !python infer-web.py & ssh -o StrictHostKeyChecking=no -p 80 -R0:localhost:7865 a.pinggy.io > log.txt\n",
    "    \n",
    "def print_url():\n",
    "    print(\"waiting for output\")\n",
    "    time.sleep(2)\n",
    "    sys.stdout.flush()\n",
    "    \n",
    "    found = False\n",
    "    with open('log.txt', 'r') as file:\n",
    "        end_word = '.pinggy.link'\n",
    "        for line in file:\n",
    "            start_index = line.find(\"http:\")\n",
    "            if start_index != -1:\n",
    "                end_index = line.find(end_word, start_index)\n",
    "                if end_index != -1:\n",
    "                    print(\"😁 😁 😁\")\n",
    "                    print(\"URL: \" + line[start_index:end_index + len(end_word)])\n",
    "                    print(\"😁 😁 😁\")\n",
    "                    found = True\n",
    "    if not found:\n",
    "        print_url()\n",
    "    else:\n",
    "        with open('log.txt', 'r') as file:\n",
    "            for line in file:\n",
    "                print(line)\n",
    "    \n",
    "p_app = Process(target=run_app)\n",
    "p_url = Process(target=print_url)\n",
    "p_app.start()\n",
    "p_url.start()\n",
    "p_app.join()\n",
    "p_url.join()"
   ]
  },
  {
   "cell_type": "markdown",
   "id": "f7af7456-e295-4217-9240-cf236cb93760",
   "metadata": {},
   "source": [
    "### Start with Zrok"
   ]
  },
  {
   "cell_type": "code",
   "execution_count": null,
   "id": "c1d1bc4a-4ae6-423b-8fba-c77cc1721617",
   "metadata": {
    "tags": []
   },
   "outputs": [],
   "source": [
    "# Install Zrok (only needs to run once)\n",
    "\n",
    "!mkdir /home/studio-lab-user/zrok\n",
    "%cd /home/studio-lab-user/zrok\n",
    "!wget https://github.com/openziti/zrok/releases/download/v0.4.23/zrok_0.4.23_linux_amd64.tar.gz\n",
    "!tar -xvf ./zrok*.gz \n",
    "!chmod a+x /home/studio-lab-user/zrok/zrok \n"
   ]
  },
  {
   "cell_type": "code",
   "execution_count": null,
   "id": "6fbd35b1-1a60-48a9-ada4-1c8a65536d9f",
   "metadata": {
    "vscode": {
     "languageId": "plaintext"
    }
   },
   "outputs": [],
   "source": [
    "# --- Create a Zrok account ---\n",
    "\n",
    "# Enter your email address in the email variable\n",
    "\n",
    "email = '####@gmail.com' # replace with your email\n",
    "\n",
    "# -----------------------------\n",
    "\n",
    "cmd = '/home/studio-lab-user/zrok/zrok invite'\n",
    "log = '/home/studio-lab-user/zrok/log.txt'\n",
    "\n",
    "!pip install pexpect\n",
    "!touch $log\n",
    "\n",
    "import pexpect\n",
    "import time\n",
    "child = pexpect.spawn('bash')\n",
    "child.sendline(f'{cmd} | tee {log}')\n",
    "child.expect('enter and confirm your email address...')\n",
    "time.sleep(1); child.sendline(email); time.sleep(1); child.send(chr(9)); time.sleep(1)\n",
    "child.sendline(email); time.sleep(1); child.send('\\n'); time.sleep(1); child.send(chr(9))\n",
    "time.sleep(1); child.send('\\r\\n'); time.sleep(2); child.close()\n",
    "!cat $log\n",
    "!rm $log"
   ]
  },
  {
   "cell_type": "code",
   "execution_count": null,
   "id": "e8dbe536-bdcd-49b8-80b4-32bb8461d389",
   "metadata": {
    "tags": []
   },
   "outputs": [],
   "source": [
    "# Enable Zrok (only neeeds to run once)\n",
    "# Paste your Zrok token in the token variable\n",
    "# You can find the token by visiting you Zrok account page, under the Detail tab\n",
    "# https://api.zrok.io\n",
    "\n",
    "token = ''\n",
    "\n",
    "!/home/studio-lab-user/zrok/zrok enable $token"
   ]
  },
  {
   "cell_type": "code",
   "execution_count": null,
   "id": "16dca11c-9760-48c3-9330-a7ab5c559ded",
   "metadata": {
    "tags": []
   },
   "outputs": [],
   "source": [
    "# Start the WebUI with Zrok\n",
    "\n",
    "%cd /home/studio-lab-user/RVC\n",
    "!python infer-web.py & /home/studio-lab-user/zrok/zrok share public http://localhost:7865 --headless"
   ]
  },
  {
   "cell_type": "code",
   "execution_count": null,
   "id": "b46ae5e4",
   "metadata": {},
   "outputs": [],
   "source": [
    "# Disable Zrok\n",
    "# This only needs to run if you want to use a new Zrok token\n",
    "\n",
    "!/home/studio-lab-user/zrok/zrok disable"
   ]
  },
  {
   "cell_type": "markdown",
   "id": "a8fb5a46-d1c7-49df-bb5f-92bc7c6ca0fa",
   "metadata": {},
   "source": [
    "### Start with ngrok"
   ]
  },
  {
   "cell_type": "code",
   "execution_count": null,
   "id": "fc5b2da7-a114-47e7-a519-aec33377b1fa",
   "metadata": {
    "tags": []
   },
   "outputs": [],
   "source": [
    "# --- Variables ---\n",
    "\n",
    "ngrok_token = \"\" \n",
    "# Put your ngrok token here (obtainable from https://ngrok.com)\n",
    "# Example: Ngrok_token = \"2Fw13n4GcJT12g7mSDUC62cdNGb_5svdjf3Gg5vfhr4nGr5gF\"\n",
    "\n",
    "ngrok_domain = \"\" # optional, leave empty if you don't have a domain\n",
    "# -----------------\n",
    "\n",
    "%cd /home/studio-lab-user/RVC\n",
    "\n",
    "!pip install pyngrok\n",
    "\n",
    "port = 7865\n",
    "code = \"python infer-web.py\"\n",
    "\n",
    "from pyngrok import ngrok, conf\n",
    "import fileinput\n",
    "import sys\n",
    "import gc\n",
    "\n",
    "gc.collect()\n",
    "\n",
    "if ngrok_token!=\"\":\n",
    "  ngrok.kill()\n",
    "  srv=ngrok.connect(port , pyngrok_config=conf.PyngrokConfig(auth_token=ngrok_token),\n",
    "                    bind_tls=True, domain=ngrok_domain).public_url\n",
    "  print(\"\\n😁* Your URL is: *😁\")\n",
    "  print(srv)\n",
    "  print (\"😁****************😁\\n\")\n",
    "  get_ipython().system(f\"python  -c '{code}'\")\n",
    "else:\n",
    "  print('An ngrok token is required. You can get one on https://ngrok.com and paste it into the ngrok_token field.')"
   ]
  },
  {
   "cell_type": "markdown",
   "id": "c0686a1d",
   "metadata": {},
   "source": [
    "---\n",
    "\n",
    "# Download a Model"
   ]
  },
  {
   "cell_type": "markdown",
   "id": "5f1a41a8",
   "metadata": {},
   "source": [
    "### Download .pth and .index files"
   ]
  },
  {
   "cell_type": "code",
   "execution_count": null,
   "id": "c02806be",
   "metadata": {},
   "outputs": [],
   "source": [
    "pth_url = \"https://huggingface.co/sail-rvc/SpongeBob_SquarePants__RVC_v2_/resolve/main/model.pth?download=true\"\n",
    "index_url = \"https://huggingface.co/sail-rvc/SpongeBob_SquarePants__RVC_v2_/resolve/main/model.index?download=true\"\n",
    "name = \"spongebob\"\n",
    "\n",
    "%cd /home/studio-lab-user/RVC\n",
    "import os\n",
    "os.makedirs('assets/weights',exist_ok=True)\n",
    "os.makedirs('assets/indices', exist_ok=True)\n",
    "get_ipython().system(f'wget \"{pth_url}\" -O \"assets/weights/{name}.pth\"')\n",
    "get_ipython().system(f'wget \"{index_url}\" -O \"assets/indices/{name}.index\"')"
   ]
  },
  {
   "cell_type": "markdown",
   "id": "e183cd6c",
   "metadata": {},
   "source": [
    "### Download .zip file\n",
    "This will only work if the .pth and .index files are in the root folder in the zip file\n",
    "If these files are in another folder, please unzip the file locally, and upload the .pth and .index files to the checkpoints folder using the File Browser"
   ]
  },
  {
   "cell_type": "code",
   "execution_count": null,
   "id": "519b4e46",
   "metadata": {
    "tags": []
   },
   "outputs": [],
   "source": [
    "zip_url = \"https://huggingface.co/sxndypz/rvc-v2-models/resolve/main/kiritan.zip?download=true\"\n",
    "name = \"kiritan\"\n",
    "# ---------------------------- #\n",
    "\n",
    "%cd /home/studio-lab-user/RVC\n",
    "import os\n",
    "os.makedirs('assets/weights',exist_ok=True)\n",
    "os.makedirs('assets/indices', exist_ok=True)\n",
    "get_ipython().system(f'wget \"{zip_url}\" -O \"/tmp/{name}.zip\"')\n",
    "!mkdir /tmp/$name\n",
    "%cd /tmp\n",
    "get_ipython().system(f'unzip \"/tmp/{name}.zip\" -d \"/tmp/{name}/\"')\n",
    "!mv /tmp/{name}/*.pth /home/studio-lab-user/RVC/assets/weights/\n",
    "!mv /tmp/{name}/*.index /home/studio-lab-user/RVC/assets/indices/"
   ]
  },
  {
   "cell_type": "markdown",
   "id": "28249a1e",
   "metadata": {},
   "source": [
    "---\n",
    "\n",
    "# Merge vocals with the instrumental track"
   ]
  },
  {
   "cell_type": "code",
   "execution_count": null,
   "id": "ebff67eb",
   "metadata": {},
   "outputs": [],
   "source": [
    "audio_vocals = \"/tmp/gradio/a39b8487c6167376b9a6c5cd17a0f86b8d2c43de/audio.wav\"\n",
    "audio_instrumental = \"opt/instrument_mysong.mp3_10.wav\"\n",
    "out = \"fullsong.wav\"\n",
    "\n",
    "%cd /home/studio-lab-user/RVC\n",
    "\n",
    "!mkdir ~/RVC/audio-out\n",
    "\n",
    "!ffmpeg -y -hwaccel cuda -hwaccel_output_format cuda -i \"$audio_vocals\" -i \"$audio_instrumental\" -c:v copy -filter_complex \"[0:a][1:a] amix=inputs=2:duration=longest\" ~/RVC/audio-out/$out"
   ]
  },
  {
   "cell_type": "code",
   "execution_count": null,
   "id": "8d084a85-35f8-4afc-a989-b6447e857a4e",
   "metadata": {},
   "outputs": [],
   "source": []
  }
 ],
 "metadata": {
  "kernelspec": {
   "display_name": "default:Python",
   "language": "python",
   "name": "conda-env-default-py"
  },
  "language_info": {
   "codemirror_mode": {
    "name": "ipython",
    "version": 3
   },
   "file_extension": ".py",
   "mimetype": "text/x-python",
   "name": "python",
   "nbconvert_exporter": "python",
   "pygments_lexer": "ipython3",
   "version": "3.9.19"
  }
 },
 "nbformat": 4,
 "nbformat_minor": 5
}
